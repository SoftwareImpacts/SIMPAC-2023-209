{
 "cells": [
  {
   "cell_type": "markdown",
   "metadata": {},
   "source": [
    "Code by Marvin Kinz, m.kinz@stud.uni-heidelberg.de\n",
    "# Random Object Generation"
   ]
  },
  {
   "cell_type": "markdown",
   "metadata": {},
   "source": [
    "The main parameters that result in differently shaped objects and that you will probably want to adjust are first \"dr\", which should be in the range (0,0.5) and controls the extent of deformation, with a lower value leading to more roundish shapes and a higher value leading to more deformation. Second is \"it\" which controls the detail of the created object and should be an integer >1. Be aware that computing time and file size increase exponentially with this parameter. Third is the smoothness parameter \"sm\", which governs the how many small \"bumps\" your object will have in the end. It is in the range [0,inf), where 0 leads to maximum displacement in each iteration and inf would mean no displacement. You could also exchange the shape that you start the generation from by handing your own over in \"input_shape\" if you want, but do not choose too detailed shapes, as then the generated objects will be pretty similar to them. \n",
    "\n",
    "The parameter for controlling how many objects you get is \"nr\". Another parameter which you might want to adjust is \"folder\", which controls the output directory where you will find your created files. The folder gets created automatically, so you do not have to create it by hand beforehand. Inside you will find two folders named \"Mesh\" and \"PC\" which contain the meshes and the point clouds of the created files respectively, latter only after uncommenting the point clouds again.\n",
    "\n",
    "To set the parameters you can either write them in the correct order in the function call without skipping any of them or you can write i.e. \"nr=10\", which will then set the parameter \"nr\" to 10. You can also mix those two kinds, i.e. first following the correct order and then switching to naming the parameters once you have to skip some.\n",
    "\n",
    "Below the example calls there is also an example how one can use PyVista to load and show the generated data again, if one is interested in that."
   ]
  },
  {
   "cell_type": "markdown",
   "metadata": {},
   "source": [
    "## Main function to create objects\n",
    "As this is a notebook you have to run the cells before the calls."
   ]
  },
  {
   "cell_type": "code",
   "execution_count": null,
   "metadata": {},
   "outputs": [],
   "source": [
    "import numpy as np\n",
    "import pyvista as pv\n",
    "import time\n",
    "import os\n",
    "def rand3d(dr,it,sc=100,sm=0.5,nr=1,folder=\"1 Random Objects\",input_shape=pv.Box()):\n",
    "    \"\"\"\n",
    "    Creates a random 3d objects based on an input shape.\n",
    "    For saving in other fileformats or applying more smoothing see the lines that are commented out in the code.\n",
    "\n",
    "    params\n",
    "    ------\n",
    "    dr : double (0,0.5)\n",
    "        initial displacement range: bigger value more displacement/sharper shape. Should be below 0.5, can lead to intersections otherwise\n",
    "    it : int [1,inf)\n",
    "        Number of iterations to randomly deform object using subdivision. Bigger number means more small scale deformations and thus more details, bigger files.\n",
    "    sc : double (0,inf)\n",
    "        Scaling parameter, rescales object. Without scaling the size of the object would be of order 1, which might be too small for use in some applications.\n",
    "    sm : double [0,inf)\n",
    "        Smoothness parameter. If >0 leads to less relative deformation per iteriation and thus smoothing the surface.\n",
    "    nr : int [1,inf)\n",
    "        Number of objects to generate\n",
    "    folder : string\n",
    "        Folder to save objects in\n",
    "    input_shape : PolyData Mesh\n",
    "        Shape to start deformation process from.\n",
    "\n",
    "    returns\n",
    "    -------\n",
    "    Stores generated objects.\n",
    "    \"\"\"\n",
    "\n",
    "    ident=\"main\"#f'dr{dr}_it{it}_sc{sc}_sm{sm}_main'.replace(\".\", \"_\") #object identifier, if wanted stores settings in filename\n",
    "    for j in range(nr): #create as many objects as wanted\n",
    "        tic = time.perf_counter() #take time\n",
    "        obj = input_shape.copy().triangulate() #triangulate for subdivision\n",
    "        obj.points*=sc #apply scaling to obj\n",
    "        for i in range(it): #iteratively deform object\n",
    "            #Calculate displacement to fit subdivision.\n",
    "            #Take distance from each vertex to each vertex\n",
    "            norm=np.linalg.norm(obj.points-obj.points[:,np.newaxis],axis=2)\n",
    "            #Set distance of vertex to itself to inf\n",
    "            norm[norm==0]=np.inf\n",
    "            #Get closest vertex for each vertex and multiply with displacement range scaled to iteration\n",
    "            disp=np.min(norm,axis=0)*dr/(i+1)**(sm)\n",
    "            #for each vertex\n",
    "            for k, dis in enumerate(disp):\n",
    "                #generate random displacement vector\n",
    "                disp_vec=np.random.uniform(-dis,dis,3)\n",
    "                #and if the vector is outside of the allowed radius\n",
    "                while np.linalg.norm(disp_vec)>dis:\n",
    "                    #discard it and generate a new one\n",
    "                    disp_vec=np.random.uniform(-dis,dis,3)\n",
    "                #apply displacement to vertex, make it smaller depending on iteration and sm\n",
    "                obj.points[k]+=disp_vec\n",
    "            #subdivide to make it smooth and allow for smaller displacement in next iteration\n",
    "            obj.subdivide(1, subfilter='loop', inplace=True) \n",
    "        #obj.subdivide(1, subfilter='loop', inplace=True) #final smoothing, remove comment if wanted. Can also change 1 to some higher value for more smoothing\n",
    "        \n",
    "        #check whether directories exists and if not create them\n",
    "        if not os.path.exists(folder):\n",
    "            os.makedirs(folder)\n",
    "\n",
    "        #save mesh\n",
    "        if not os.path.exists(f'{folder}/Mesh'):\n",
    "            os.makedirs(f'{folder}/Mesh')\n",
    "        #obj.save(f'{folder}{ident}{j}_mesh.vtk') #vtk fileformat\n",
    "        pv.save_meshio(f'{folder}/Mesh/{ident}{j}_mesh.obj', obj, 'obj') #obj fileformat\n",
    "\n",
    "        #save point cloud \n",
    "        #if not os.path.exists(f'{folder}/PC'):\n",
    "        #    os.makedirs(f'{folder}/PC')\n",
    "        #centers = obj.cell_centers() #could also use vertices instead for point cloud, i.e. obj.points\n",
    "        #centers.save(f'{folder}PC/{ident}{j}_pc.vtk') #vtk fileformat\n",
    "        #centers.save(f'{folder}PC/{ident}{j}_pc.ply') #ply fileformat\n",
    "        #p = pv.Plotter()\n",
    "        #p.add_mesh(centers)\n",
    "        #p.export_obj(f'{folder}/PC/{ident}{j}_pc') #obj fileformat\n",
    "\n",
    "        toc = time.perf_counter()\n",
    "        print(f\"{ident}{j} Finished in {toc - tic:0.4f} seconds\")"
   ]
  },
  {
   "cell_type": "code",
   "execution_count": null,
   "metadata": {},
   "outputs": [],
   "source": [
    "#example for just creating many objects with standard settings\n",
    "rand3d(dr=0.45,it=5,nr=10)"
   ]
  },
  {
   "cell_type": "code",
   "execution_count": null,
   "metadata": {},
   "outputs": [],
   "source": [
    "#example batch creation with some changing settings\n",
    "DR=[0.05,0.15,0.25,0.35,0.45]\n",
    "IT=[1,2,3,4,5,6]\n",
    "SM=[0,0.5,1,1.5,2,2.5]\n",
    "\n",
    "for it in IT:\n",
    "    print(it)\n",
    "    rand3d(0.45,it,folder=\"Batch it\")\n",
    "for dr in DR:\n",
    "    print(dr)\n",
    "    rand3d(dr,5,folder=\"Batch dr\")\n",
    "for sm in SM:\n",
    "    print(sm)\n",
    "    rand3d(0.45,5,sm=sm,folder=\"Batch sm\")\n"
   ]
  },
  {
   "cell_type": "markdown",
   "metadata": {},
   "source": [
    "## Example how to load and show saved test object"
   ]
  },
  {
   "cell_type": "code",
   "execution_count": null,
   "metadata": {},
   "outputs": [],
   "source": [
    "#change this to fit your actual data\n",
    "ident='main0' \n",
    "folder=\"1 Random Objects\"\n",
    "#------------------------------------\n",
    "test=pv.PolyData(f'{folder}/Mesh/{ident}_mesh.obj')\n",
    "p = pv.Plotter()\n",
    "p.add_mesh(test)\n",
    "p.show(use_ipyvtk=True)"
   ]
  }
 ],
 "metadata": {
  "kernelspec": {
   "display_name": "Python 3.8.8 ('Bachelor')",
   "language": "python",
   "name": "python3"
  },
  "language_info": {
   "codemirror_mode": {
    "name": "ipython",
    "version": 3
   },
   "file_extension": ".py",
   "mimetype": "text/x-python",
   "name": "python",
   "nbconvert_exporter": "python",
   "pygments_lexer": "ipython3",
   "version": "3.8.8"
  },
  "orig_nbformat": 2,
  "vscode": {
   "interpreter": {
    "hash": "a19bd0ab62cc4804e59299ea7e32389697d4b553c41966d4c46c1c55aed49ad7"
   }
  }
 },
 "nbformat": 4,
 "nbformat_minor": 2
}
